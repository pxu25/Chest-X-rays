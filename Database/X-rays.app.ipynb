{
 "cells": [
  {
   "cell_type": "code",
   "execution_count": 1,
   "metadata": {},
   "outputs": [
    {
     "data": {
      "application/vnd.jupyter.widget-view+json": {
       "model_id": "ef384d5df58a47f5821a7e1bdce5d34c",
       "version_major": 2,
       "version_minor": 0
      },
      "text/plain": [
       "SelectMultiple(description='Label:', index=(0, 1), options=('All', 'Normal', 'Infiltration', 'Atelectasis', 'E…"
      ]
     },
     "metadata": {},
     "output_type": "display_data"
    },
    {
     "data": {
      "application/vnd.jupyter.widget-view+json": {
       "model_id": "6f000a65e39b42e29e3dcdec242997b0",
       "version_major": 2,
       "version_minor": 0
      },
      "text/plain": [
       "IntSlider(value=0, description='Age: ')"
      ]
     },
     "metadata": {},
     "output_type": "display_data"
    },
    {
     "data": {
      "application/vnd.jupyter.widget-view+json": {
       "model_id": "ad3d587c6ed6418babdc7bf1bf089154",
       "version_major": 2,
       "version_minor": 0
      },
      "text/plain": [
       "Select(description='Gender:', options=('Both', 'F', 'M'), value='Both')"
      ]
     },
     "metadata": {},
     "output_type": "display_data"
    },
    {
     "data": {
      "application/vnd.jupyter.widget-view+json": {
       "model_id": "fa28f7c835724f039f60fcbd8564ddb7",
       "version_major": 2,
       "version_minor": 0
      },
      "text/plain": [
       "Select(description='position:', options=('Both', 'PA', 'AP'), value='Both')"
      ]
     },
     "metadata": {},
     "output_type": "display_data"
    }
   ],
   "source": [
    "import ipywidgets as wg\n",
    "from IPython.display import display\n",
    "\n",
    "# label select\n",
    "label = wg.SelectMultiple(options=['All','Normal','Infiltration','Atelectasis','Effusion','Nodule','Pneumothorax',\n",
    "                                   'Mass','Effusion|Infiltration','Atelectasis|Infiltration','Consolidation'],\n",
    "                  value         = ['All','Normal'],\n",
    "                  description    ='Label:')\n",
    "\n",
    "# Age slide\n",
    "age   = wg.IntSlider(min=0, max=100, step=1,\n",
    "                       value = 0,\n",
    "                       description='Age: ')\n",
    "# Gender select\n",
    "gender = wg.Select (options    = ['Both','F','M'],\n",
    "                    value      = 'Both',\n",
    "                    description ='Gender:')\n",
    "# postion selectat\n",
    "position = wg.Select(options    = ['Both','PA','AP'],\n",
    "                     value     = 'Both',\n",
    "                     description='position:')\n",
    "\n",
    "#######################\n",
    "\n",
    "display(label,age,gender,position)\n"
   ]
  },
  {
   "cell_type": "code",
   "execution_count": 2,
   "metadata": {},
   "outputs": [
    {
     "name": "stdout",
     "output_type": "stream",
     "text": [
      "FindingLabels = 'Nodule' AND PatientAge    = 67 AND PatientGender = 'F'\n",
      "\n",
      "\n"
     ]
    },
    {
     "ename": "InterfaceError",
     "evalue": "2003: Can't connect to MySQL server on 'localhost:3306' (61 Connection refused)",
     "output_type": "error",
     "traceback": [
      "\u001b[0;31m---------------------------------------------------------------------------\u001b[0m",
      "\u001b[0;31mConnectionRefusedError\u001b[0m                    Traceback (most recent call last)",
      "\u001b[0;32m~/anaconda3/lib/python3.6/site-packages/mysql/connector/network.py\u001b[0m in \u001b[0;36mopen_connection\u001b[0;34m(self)\u001b[0m\n\u001b[1;32m    508\u001b[0m             \u001b[0mself\u001b[0m\u001b[0;34m.\u001b[0m\u001b[0msock\u001b[0m\u001b[0;34m.\u001b[0m\u001b[0msettimeout\u001b[0m\u001b[0;34m(\u001b[0m\u001b[0mself\u001b[0m\u001b[0;34m.\u001b[0m\u001b[0m_connection_timeout\u001b[0m\u001b[0;34m)\u001b[0m\u001b[0;34m\u001b[0m\u001b[0;34m\u001b[0m\u001b[0m\n\u001b[0;32m--> 509\u001b[0;31m             \u001b[0mself\u001b[0m\u001b[0;34m.\u001b[0m\u001b[0msock\u001b[0m\u001b[0;34m.\u001b[0m\u001b[0mconnect\u001b[0m\u001b[0;34m(\u001b[0m\u001b[0msockaddr\u001b[0m\u001b[0;34m)\u001b[0m\u001b[0;34m\u001b[0m\u001b[0;34m\u001b[0m\u001b[0m\n\u001b[0m\u001b[1;32m    510\u001b[0m         \u001b[0;32mexcept\u001b[0m \u001b[0mIOError\u001b[0m \u001b[0;32mas\u001b[0m \u001b[0merr\u001b[0m\u001b[0;34m:\u001b[0m\u001b[0;34m\u001b[0m\u001b[0;34m\u001b[0m\u001b[0m\n",
      "\u001b[0;31mConnectionRefusedError\u001b[0m: [Errno 61] Connection refused",
      "\nDuring handling of the above exception, another exception occurred:\n",
      "\u001b[0;31mInterfaceError\u001b[0m                            Traceback (most recent call last)",
      "\u001b[0;32m<ipython-input-2-3d225cbe4b6f>\u001b[0m in \u001b[0;36m<module>\u001b[0;34m\u001b[0m\n\u001b[1;32m     59\u001b[0m                                     \u001b[0muser\u001b[0m\u001b[0;34m=\u001b[0m\u001b[0;34m\"root\"\u001b[0m\u001b[0;34m,\u001b[0m\u001b[0;34m\u001b[0m\u001b[0;34m\u001b[0m\u001b[0m\n\u001b[1;32m     60\u001b[0m                                     \u001b[0mpasswd\u001b[0m\u001b[0;34m=\u001b[0m\u001b[0;34m\"$Google25\"\u001b[0m\u001b[0;34m,\u001b[0m\u001b[0;34m\u001b[0m\u001b[0;34m\u001b[0m\u001b[0m\n\u001b[0;32m---> 61\u001b[0;31m                                     database=\"X-rays\")\n\u001b[0m\u001b[1;32m     62\u001b[0m \u001b[0mcursor\u001b[0m \u001b[0;34m=\u001b[0m \u001b[0mmariadb_connection\u001b[0m\u001b[0;34m.\u001b[0m\u001b[0mcursor\u001b[0m\u001b[0;34m(\u001b[0m\u001b[0;34m)\u001b[0m\u001b[0;34m\u001b[0m\u001b[0;34m\u001b[0m\u001b[0m\n\u001b[1;32m     63\u001b[0m \u001b[0;34m\u001b[0m\u001b[0m\n",
      "\u001b[0;32m~/anaconda3/lib/python3.6/site-packages/mysql/connector/__init__.py\u001b[0m in \u001b[0;36mconnect\u001b[0;34m(*args, **kwargs)\u001b[0m\n\u001b[1;32m    177\u001b[0m         \u001b[0;32mreturn\u001b[0m \u001b[0mCMySQLConnection\u001b[0m\u001b[0;34m(\u001b[0m\u001b[0;34m*\u001b[0m\u001b[0margs\u001b[0m\u001b[0;34m,\u001b[0m \u001b[0;34m**\u001b[0m\u001b[0mkwargs\u001b[0m\u001b[0;34m)\u001b[0m\u001b[0;34m\u001b[0m\u001b[0;34m\u001b[0m\u001b[0m\n\u001b[1;32m    178\u001b[0m     \u001b[0;32melse\u001b[0m\u001b[0;34m:\u001b[0m\u001b[0;34m\u001b[0m\u001b[0;34m\u001b[0m\u001b[0m\n\u001b[0;32m--> 179\u001b[0;31m         \u001b[0;32mreturn\u001b[0m \u001b[0mMySQLConnection\u001b[0m\u001b[0;34m(\u001b[0m\u001b[0;34m*\u001b[0m\u001b[0margs\u001b[0m\u001b[0;34m,\u001b[0m \u001b[0;34m**\u001b[0m\u001b[0mkwargs\u001b[0m\u001b[0;34m)\u001b[0m\u001b[0;34m\u001b[0m\u001b[0;34m\u001b[0m\u001b[0m\n\u001b[0m\u001b[1;32m    180\u001b[0m \u001b[0mConnect\u001b[0m \u001b[0;34m=\u001b[0m \u001b[0mconnect\u001b[0m  \u001b[0;31m# pylint: disable=C0103\u001b[0m\u001b[0;34m\u001b[0m\u001b[0;34m\u001b[0m\u001b[0m\n\u001b[1;32m    181\u001b[0m \u001b[0;34m\u001b[0m\u001b[0m\n",
      "\u001b[0;32m~/anaconda3/lib/python3.6/site-packages/mysql/connector/connection.py\u001b[0m in \u001b[0;36m__init__\u001b[0;34m(self, *args, **kwargs)\u001b[0m\n\u001b[1;32m     92\u001b[0m \u001b[0;34m\u001b[0m\u001b[0m\n\u001b[1;32m     93\u001b[0m         \u001b[0;32mif\u001b[0m \u001b[0mlen\u001b[0m\u001b[0;34m(\u001b[0m\u001b[0mkwargs\u001b[0m\u001b[0;34m)\u001b[0m \u001b[0;34m>\u001b[0m \u001b[0;36m0\u001b[0m\u001b[0;34m:\u001b[0m\u001b[0;34m\u001b[0m\u001b[0;34m\u001b[0m\u001b[0m\n\u001b[0;32m---> 94\u001b[0;31m             \u001b[0mself\u001b[0m\u001b[0;34m.\u001b[0m\u001b[0mconnect\u001b[0m\u001b[0;34m(\u001b[0m\u001b[0;34m**\u001b[0m\u001b[0mkwargs\u001b[0m\u001b[0;34m)\u001b[0m\u001b[0;34m\u001b[0m\u001b[0;34m\u001b[0m\u001b[0m\n\u001b[0m\u001b[1;32m     95\u001b[0m \u001b[0;34m\u001b[0m\u001b[0m\n\u001b[1;32m     96\u001b[0m     \u001b[0;32mdef\u001b[0m \u001b[0m_do_handshake\u001b[0m\u001b[0;34m(\u001b[0m\u001b[0mself\u001b[0m\u001b[0;34m)\u001b[0m\u001b[0;34m:\u001b[0m\u001b[0;34m\u001b[0m\u001b[0;34m\u001b[0m\u001b[0m\n",
      "\u001b[0;32m~/anaconda3/lib/python3.6/site-packages/mysql/connector/abstracts.py\u001b[0m in \u001b[0;36mconnect\u001b[0;34m(self, **kwargs)\u001b[0m\n\u001b[1;32m    720\u001b[0m \u001b[0;34m\u001b[0m\u001b[0m\n\u001b[1;32m    721\u001b[0m         \u001b[0mself\u001b[0m\u001b[0;34m.\u001b[0m\u001b[0mdisconnect\u001b[0m\u001b[0;34m(\u001b[0m\u001b[0;34m)\u001b[0m\u001b[0;34m\u001b[0m\u001b[0;34m\u001b[0m\u001b[0m\n\u001b[0;32m--> 722\u001b[0;31m         \u001b[0mself\u001b[0m\u001b[0;34m.\u001b[0m\u001b[0m_open_connection\u001b[0m\u001b[0;34m(\u001b[0m\u001b[0;34m)\u001b[0m\u001b[0;34m\u001b[0m\u001b[0;34m\u001b[0m\u001b[0m\n\u001b[0m\u001b[1;32m    723\u001b[0m         \u001b[0mself\u001b[0m\u001b[0;34m.\u001b[0m\u001b[0m_post_connection\u001b[0m\u001b[0;34m(\u001b[0m\u001b[0;34m)\u001b[0m\u001b[0;34m\u001b[0m\u001b[0;34m\u001b[0m\u001b[0m\n\u001b[1;32m    724\u001b[0m \u001b[0;34m\u001b[0m\u001b[0m\n",
      "\u001b[0;32m~/anaconda3/lib/python3.6/site-packages/mysql/connector/connection.py\u001b[0m in \u001b[0;36m_open_connection\u001b[0;34m(self)\u001b[0m\n\u001b[1;32m    205\u001b[0m         \u001b[0mself\u001b[0m\u001b[0;34m.\u001b[0m\u001b[0m_protocol\u001b[0m \u001b[0;34m=\u001b[0m \u001b[0mMySQLProtocol\u001b[0m\u001b[0;34m(\u001b[0m\u001b[0;34m)\u001b[0m\u001b[0;34m\u001b[0m\u001b[0;34m\u001b[0m\u001b[0m\n\u001b[1;32m    206\u001b[0m         \u001b[0mself\u001b[0m\u001b[0;34m.\u001b[0m\u001b[0m_socket\u001b[0m \u001b[0;34m=\u001b[0m \u001b[0mself\u001b[0m\u001b[0;34m.\u001b[0m\u001b[0m_get_connection\u001b[0m\u001b[0;34m(\u001b[0m\u001b[0;34m)\u001b[0m\u001b[0;34m\u001b[0m\u001b[0;34m\u001b[0m\u001b[0m\n\u001b[0;32m--> 207\u001b[0;31m         \u001b[0mself\u001b[0m\u001b[0;34m.\u001b[0m\u001b[0m_socket\u001b[0m\u001b[0;34m.\u001b[0m\u001b[0mopen_connection\u001b[0m\u001b[0;34m(\u001b[0m\u001b[0;34m)\u001b[0m\u001b[0;34m\u001b[0m\u001b[0;34m\u001b[0m\u001b[0m\n\u001b[0m\u001b[1;32m    208\u001b[0m         \u001b[0mself\u001b[0m\u001b[0;34m.\u001b[0m\u001b[0m_do_handshake\u001b[0m\u001b[0;34m(\u001b[0m\u001b[0;34m)\u001b[0m\u001b[0;34m\u001b[0m\u001b[0;34m\u001b[0m\u001b[0m\n\u001b[1;32m    209\u001b[0m         self._do_auth(self._user, self._password,\n",
      "\u001b[0;32m~/anaconda3/lib/python3.6/site-packages/mysql/connector/network.py\u001b[0m in \u001b[0;36mopen_connection\u001b[0;34m(self)\u001b[0m\n\u001b[1;32m    510\u001b[0m         \u001b[0;32mexcept\u001b[0m \u001b[0mIOError\u001b[0m \u001b[0;32mas\u001b[0m \u001b[0merr\u001b[0m\u001b[0;34m:\u001b[0m\u001b[0;34m\u001b[0m\u001b[0;34m\u001b[0m\u001b[0m\n\u001b[1;32m    511\u001b[0m             raise errors.InterfaceError(\n\u001b[0;32m--> 512\u001b[0;31m                 errno=2003, values=(self.get_address(), _strioerror(err)))\n\u001b[0m\u001b[1;32m    513\u001b[0m         \u001b[0;32mexcept\u001b[0m \u001b[0mException\u001b[0m \u001b[0;32mas\u001b[0m \u001b[0merr\u001b[0m\u001b[0;34m:\u001b[0m\u001b[0;34m\u001b[0m\u001b[0;34m\u001b[0m\u001b[0m\n\u001b[1;32m    514\u001b[0m             \u001b[0;32mraise\u001b[0m \u001b[0merrors\u001b[0m\u001b[0;34m.\u001b[0m\u001b[0mOperationalError\u001b[0m\u001b[0;34m(\u001b[0m\u001b[0mstr\u001b[0m\u001b[0;34m(\u001b[0m\u001b[0merr\u001b[0m\u001b[0;34m)\u001b[0m\u001b[0;34m)\u001b[0m\u001b[0;34m\u001b[0m\u001b[0;34m\u001b[0m\u001b[0m\n",
      "\u001b[0;31mInterfaceError\u001b[0m: 2003: Can't connect to MySQL server on 'localhost:3306' (61 Connection refused)"
     ]
    }
   ],
   "source": [
    "if label.value[0] == 'All':\n",
    "    if age.value == 0:\n",
    "        cndt = str()\n",
    "        if gender.value == 'Both':\n",
    "            cndt = cndt\n",
    "            if position.value == 'Both':\n",
    "                cndt = cndt\n",
    "            else:\n",
    "                cndt_position = 'ViewPosition  = '+ position.value\n",
    "                cndt    =  cndt_position\n",
    "        else:\n",
    "            cndt_gender = 'PatientGender = \\''+ gender.value + '\\''\n",
    "            cndt        = cndt_gender\n",
    "            if position.value == 'Both':\n",
    "                cndt = cndt\n",
    "            else:\n",
    "                cndt_position = 'ViewPosition  = \\''+ position.value + '\\''\n",
    "                cndt    = cndt + \" AND \" + cndt_position\n",
    "    else:\n",
    "        cndt_age = 'PatientAge    = '+ str(age.value)\n",
    "        cndt     = cndt_age\n",
    "        if gender.value == 'Both':\n",
    "            cndt = cndt\n",
    "        else:\n",
    "            cndt_gender = 'PatientGender = \\''+ gender.value + '\\'' \n",
    "            cndt        = cndt + \" AND \" + cndt_gender\n",
    "            if position.value == 'Both':\n",
    "                cndt = cndt\n",
    "            else:\n",
    "                cndt_position = 'ViewPosition  = \\''+ position.value + '\\''\n",
    "                cndt    = cndt + \" AND \" + cndt_position\n",
    "\n",
    "else:\n",
    "    cndt_label = ' or '.join(map(lambda x:'FindingLabels = '+ \"'\"+ x +\"'\", label.value))\n",
    "    cndt       = cndt_label\n",
    "    if age.value == 0:\n",
    "        cndt = cndt\n",
    "    else:\n",
    "        cndt_age = 'PatientAge    = '+ str(age.value)\n",
    "        cndt     = cndt + \" AND \" + cndt_age\n",
    "        if gender.value == 'Both':\n",
    "            cndt = cndt\n",
    "        else:\n",
    "            cndt_gender = 'PatientGender = \\''+ gender.value + '\\''\n",
    "            cndt        = cndt + \" AND \" + cndt_gender\n",
    "            if position.value == 'Both':\n",
    "                cndt = cndt\n",
    "            else:\n",
    "                cndt_position = 'ViewPosition  = \\''+ position.value + '\\''\n",
    "                cndt    = cndt + \" AND \" + cndt_position\n",
    "\n",
    "print(cndt)\n",
    "print(\"\\n\")\n",
    "\n",
    "#import the mysql driver and connect the MariaDB with user name and password\n",
    "import mysql.connector as mariadb\n",
    "mariadb_connection = mariadb.connect(\n",
    "                                    host=\"localhost\",\n",
    "                                    user=\"root\",\n",
    "                                    passwd=\"password\",\n",
    "                                    database=\"X-rays\")\n",
    "cursor = mariadb_connection.cursor()\n",
    "\n",
    "# SQL query\n",
    "\n",
    "# sql query statement\n",
    "\n",
    "if cndt == None:\n",
    "    sql = \"SELECT ImageIndex, ImagePath FROM image;\"\n",
    "else:\n",
    "    sql = \"SELECT ImageIndex, ImagePath FROM image WHERE \" + cndt + \";\"\n",
    "\n",
    "cursor.execute(sql)\n",
    "\n",
    "\n",
    "##########################################\n",
    "########Display the results##############\n",
    "#########################################\n",
    "print('Your searching paremeters: ',\n",
    "      '\\n    PatienceLabels: ',','.join(label.value), \n",
    "      '\\n    PatienceAge:    ',age.value, \n",
    "      '\\n    PatientGender:  ',gender.value, \n",
    "      '\\n    ViewPosition:   ',position.value)\n",
    "\n",
    "#import the matplotlib to show the image\n",
    "%matplotlib inline\n",
    "import matplotlib.pyplot as plt\n",
    "import matplotlib.image  as mpimg\n",
    "\n",
    "n = 0\n",
    "for i in cursor:\n",
    "    n +=1\n",
    "    img    = mpimg.imread(i[1])\n",
    "    implot = plt.imshow(img, cmap='gray')\n",
    "    plt.show()\n",
    "    print('         '+i[0])\n",
    "\n",
    "print(\"\\n\",\"\\n\")\n",
    "\n",
    "print(str(n), \" image(s) are found in the database.\")\n",
    "    "
   ]
  },
  {
   "cell_type": "code",
   "execution_count": null,
   "metadata": {},
   "outputs": [],
   "source": []
  }
 ],
 "metadata": {
  "kernelspec": {
   "display_name": "Python 3",
   "language": "python",
   "name": "python3"
  },
  "language_info": {
   "codemirror_mode": {
    "name": "ipython",
    "version": 3
   },
   "file_extension": ".py",
   "mimetype": "text/x-python",
   "name": "python",
   "nbconvert_exporter": "python",
   "pygments_lexer": "ipython3",
   "version": "3.6.8"
  }
 },
 "nbformat": 4,
 "nbformat_minor": 2
}
